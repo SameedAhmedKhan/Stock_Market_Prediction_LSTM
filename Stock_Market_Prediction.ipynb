{
  "nbformat": 4,
  "nbformat_minor": 0,
  "metadata": {
    "colab": {
      "name": "Stock Market Prediction.ipynb",
      "provenance": [],
      "collapsed_sections": []
    },
    "kernelspec": {
      "name": "python3",
      "display_name": "Python 3"
    },
    "language_info": {
      "name": "python"
    }
  },
  "cells": [
    {
      "cell_type": "code",
      "execution_count": 8,
      "metadata": {
        "colab": {
          "base_uri": "https://localhost:8080/"
        },
        "id": "QKJuu2raGfam",
        "outputId": "c1decbfb-8fa0-4712-bd16-493fff19a51f"
      },
      "outputs": [
        {
          "output_type": "stream",
          "name": "stdout",
          "text": [
            "fatal: destination path 'Google-Stock-Price-Prediction' already exists and is not an empty directory.\n"
          ]
        }
      ],
      "source": [
        "!git clone \"https://github.com/Parasgr7/Google-Stock-Price-Prediction.git\""
      ]
    },
    {
      "cell_type": "code",
      "source": [
        "!ls"
      ],
      "metadata": {
        "colab": {
          "base_uri": "https://localhost:8080/"
        },
        "id": "4psNWNgLOFsU",
        "outputId": "0cc0e59f-9c72-49b4-fed1-3e79d84a522b"
      },
      "execution_count": 9,
      "outputs": [
        {
          "output_type": "stream",
          "name": "stdout",
          "text": [
            "Google-Stock-Price-Prediction  sample_data\n"
          ]
        }
      ]
    },
    {
      "cell_type": "code",
      "source": [
        "%cd Google-Stock-Price-Prediction"
      ],
      "metadata": {
        "colab": {
          "base_uri": "https://localhost:8080/"
        },
        "id": "ZXBbbwd_OHjX",
        "outputId": "dbb9d943-8f25-4c4b-f0fe-dc6a597240e6"
      },
      "execution_count": 10,
      "outputs": [
        {
          "output_type": "stream",
          "name": "stdout",
          "text": [
            "/content/Google-Stock-Price-Prediction\n"
          ]
        }
      ]
    },
    {
      "cell_type": "code",
      "source": [
        "import pandas as pd\n",
        "import numpy as np\n",
        "import matplotlib.pyplot as plt\n",
        "from sklearn.model_selection import train_test_split"
      ],
      "metadata": {
        "id": "-rR9xPtwOL98"
      },
      "execution_count": 11,
      "outputs": []
    },
    {
      "cell_type": "code",
      "source": [
        "data = pd.read_csv(\"Google_Stock_Price_Train.csv\")"
      ],
      "metadata": {
        "id": "BskdqZL1OWcT"
      },
      "execution_count": 12,
      "outputs": []
    },
    {
      "cell_type": "code",
      "source": [
        "data_year = []\n",
        "for i, date in enumerate(data.Date):\n",
        "  data_year.append(date[-4:])"
      ],
      "metadata": {
        "id": "bGCWuHyaTbvv"
      },
      "execution_count": 13,
      "outputs": []
    },
    {
      "cell_type": "code",
      "source": [
        "def standardize(x):\n",
        "  x = x - np.mean(x) \n",
        "  x = x / np.std(x)\n",
        "  return x"
      ],
      "metadata": {
        "id": "RmZYsqbaf43z"
      },
      "execution_count": 14,
      "outputs": []
    },
    {
      "cell_type": "code",
      "source": [
        "data['Year'] = data_year\n",
        "data['Open'] = standardize(data['Open'])\n",
        "data.head()"
      ],
      "metadata": {
        "colab": {
          "base_uri": "https://localhost:8080/",
          "height": 206
        },
        "id": "WzR_TVoDUBr5",
        "outputId": "28ce7dbd-4190-4a82-a247-ce4c82409ad5"
      },
      "execution_count": 15,
      "outputs": [
        {
          "output_type": "execute_result",
          "data": {
            "text/plain": [
              "       Date      Open    High     Low   Close      Volume  Year\n",
              "0  1/3/2012 -1.372855  332.83  324.97  663.59   7,380,500  2012\n",
              "1  1/4/2012 -1.333209  333.87  329.08  666.45   5,749,400  2012\n",
              "2  1/5/2012 -1.342692  330.75  326.89  657.21   6,590,300  2012\n",
              "3  1/6/2012 -1.352505  328.77  323.68  648.24   5,405,900  2012\n",
              "4  1/9/2012 -1.393995  322.29  309.46  620.76  11,688,800  2012"
            ],
            "text/html": [
              "\n",
              "  <div id=\"df-db5ad5f5-f066-44e0-aaa0-f8d33d89d2b1\">\n",
              "    <div class=\"colab-df-container\">\n",
              "      <div>\n",
              "<style scoped>\n",
              "    .dataframe tbody tr th:only-of-type {\n",
              "        vertical-align: middle;\n",
              "    }\n",
              "\n",
              "    .dataframe tbody tr th {\n",
              "        vertical-align: top;\n",
              "    }\n",
              "\n",
              "    .dataframe thead th {\n",
              "        text-align: right;\n",
              "    }\n",
              "</style>\n",
              "<table border=\"1\" class=\"dataframe\">\n",
              "  <thead>\n",
              "    <tr style=\"text-align: right;\">\n",
              "      <th></th>\n",
              "      <th>Date</th>\n",
              "      <th>Open</th>\n",
              "      <th>High</th>\n",
              "      <th>Low</th>\n",
              "      <th>Close</th>\n",
              "      <th>Volume</th>\n",
              "      <th>Year</th>\n",
              "    </tr>\n",
              "  </thead>\n",
              "  <tbody>\n",
              "    <tr>\n",
              "      <th>0</th>\n",
              "      <td>1/3/2012</td>\n",
              "      <td>-1.372855</td>\n",
              "      <td>332.83</td>\n",
              "      <td>324.97</td>\n",
              "      <td>663.59</td>\n",
              "      <td>7,380,500</td>\n",
              "      <td>2012</td>\n",
              "    </tr>\n",
              "    <tr>\n",
              "      <th>1</th>\n",
              "      <td>1/4/2012</td>\n",
              "      <td>-1.333209</td>\n",
              "      <td>333.87</td>\n",
              "      <td>329.08</td>\n",
              "      <td>666.45</td>\n",
              "      <td>5,749,400</td>\n",
              "      <td>2012</td>\n",
              "    </tr>\n",
              "    <tr>\n",
              "      <th>2</th>\n",
              "      <td>1/5/2012</td>\n",
              "      <td>-1.342692</td>\n",
              "      <td>330.75</td>\n",
              "      <td>326.89</td>\n",
              "      <td>657.21</td>\n",
              "      <td>6,590,300</td>\n",
              "      <td>2012</td>\n",
              "    </tr>\n",
              "    <tr>\n",
              "      <th>3</th>\n",
              "      <td>1/6/2012</td>\n",
              "      <td>-1.352505</td>\n",
              "      <td>328.77</td>\n",
              "      <td>323.68</td>\n",
              "      <td>648.24</td>\n",
              "      <td>5,405,900</td>\n",
              "      <td>2012</td>\n",
              "    </tr>\n",
              "    <tr>\n",
              "      <th>4</th>\n",
              "      <td>1/9/2012</td>\n",
              "      <td>-1.393995</td>\n",
              "      <td>322.29</td>\n",
              "      <td>309.46</td>\n",
              "      <td>620.76</td>\n",
              "      <td>11,688,800</td>\n",
              "      <td>2012</td>\n",
              "    </tr>\n",
              "  </tbody>\n",
              "</table>\n",
              "</div>\n",
              "      <button class=\"colab-df-convert\" onclick=\"convertToInteractive('df-db5ad5f5-f066-44e0-aaa0-f8d33d89d2b1')\"\n",
              "              title=\"Convert this dataframe to an interactive table.\"\n",
              "              style=\"display:none;\">\n",
              "        \n",
              "  <svg xmlns=\"http://www.w3.org/2000/svg\" height=\"24px\"viewBox=\"0 0 24 24\"\n",
              "       width=\"24px\">\n",
              "    <path d=\"M0 0h24v24H0V0z\" fill=\"none\"/>\n",
              "    <path d=\"M18.56 5.44l.94 2.06.94-2.06 2.06-.94-2.06-.94-.94-2.06-.94 2.06-2.06.94zm-11 1L8.5 8.5l.94-2.06 2.06-.94-2.06-.94L8.5 2.5l-.94 2.06-2.06.94zm10 10l.94 2.06.94-2.06 2.06-.94-2.06-.94-.94-2.06-.94 2.06-2.06.94z\"/><path d=\"M17.41 7.96l-1.37-1.37c-.4-.4-.92-.59-1.43-.59-.52 0-1.04.2-1.43.59L10.3 9.45l-7.72 7.72c-.78.78-.78 2.05 0 2.83L4 21.41c.39.39.9.59 1.41.59.51 0 1.02-.2 1.41-.59l7.78-7.78 2.81-2.81c.8-.78.8-2.07 0-2.86zM5.41 20L4 18.59l7.72-7.72 1.47 1.35L5.41 20z\"/>\n",
              "  </svg>\n",
              "      </button>\n",
              "      \n",
              "  <style>\n",
              "    .colab-df-container {\n",
              "      display:flex;\n",
              "      flex-wrap:wrap;\n",
              "      gap: 12px;\n",
              "    }\n",
              "\n",
              "    .colab-df-convert {\n",
              "      background-color: #E8F0FE;\n",
              "      border: none;\n",
              "      border-radius: 50%;\n",
              "      cursor: pointer;\n",
              "      display: none;\n",
              "      fill: #1967D2;\n",
              "      height: 32px;\n",
              "      padding: 0 0 0 0;\n",
              "      width: 32px;\n",
              "    }\n",
              "\n",
              "    .colab-df-convert:hover {\n",
              "      background-color: #E2EBFA;\n",
              "      box-shadow: 0px 1px 2px rgba(60, 64, 67, 0.3), 0px 1px 3px 1px rgba(60, 64, 67, 0.15);\n",
              "      fill: #174EA6;\n",
              "    }\n",
              "\n",
              "    [theme=dark] .colab-df-convert {\n",
              "      background-color: #3B4455;\n",
              "      fill: #D2E3FC;\n",
              "    }\n",
              "\n",
              "    [theme=dark] .colab-df-convert:hover {\n",
              "      background-color: #434B5C;\n",
              "      box-shadow: 0px 1px 3px 1px rgba(0, 0, 0, 0.15);\n",
              "      filter: drop-shadow(0px 1px 2px rgba(0, 0, 0, 0.3));\n",
              "      fill: #FFFFFF;\n",
              "    }\n",
              "  </style>\n",
              "\n",
              "      <script>\n",
              "        const buttonEl =\n",
              "          document.querySelector('#df-db5ad5f5-f066-44e0-aaa0-f8d33d89d2b1 button.colab-df-convert');\n",
              "        buttonEl.style.display =\n",
              "          google.colab.kernel.accessAllowed ? 'block' : 'none';\n",
              "\n",
              "        async function convertToInteractive(key) {\n",
              "          const element = document.querySelector('#df-db5ad5f5-f066-44e0-aaa0-f8d33d89d2b1');\n",
              "          const dataTable =\n",
              "            await google.colab.kernel.invokeFunction('convertToInteractive',\n",
              "                                                     [key], {});\n",
              "          if (!dataTable) return;\n",
              "\n",
              "          const docLinkHtml = 'Like what you see? Visit the ' +\n",
              "            '<a target=\"_blank\" href=https://colab.research.google.com/notebooks/data_table.ipynb>data table notebook</a>'\n",
              "            + ' to learn more about interactive tables.';\n",
              "          element.innerHTML = '';\n",
              "          dataTable['output_type'] = 'display_data';\n",
              "          await google.colab.output.renderOutput(dataTable, element);\n",
              "          const docLink = document.createElement('div');\n",
              "          docLink.innerHTML = docLinkHtml;\n",
              "          element.appendChild(docLink);\n",
              "        }\n",
              "      </script>\n",
              "    </div>\n",
              "  </div>\n",
              "  "
            ]
          },
          "metadata": {},
          "execution_count": 15
        }
      ]
    },
    {
      "cell_type": "code",
      "source": [
        "values_30_days = []\n",
        "value_next_day = []\n",
        "for year in ['2012', '2013', '2014', '2015']:\n",
        "  data_open = list(data.loc[data['Year'] == year].Open)\n",
        "  print(data.loc[data['Year'] == year])\n",
        "  for i in range(30, len(data_open)-1):\n",
        "    values_30_days.append(data_open[i-30:i])\n",
        "    value_next_day.append(data_open[i+1])\n",
        "values_30_days = np.array(values_30_days)\n",
        "value_next_day = np.array(value_next_day)"
      ],
      "metadata": {
        "colab": {
          "base_uri": "https://localhost:8080/"
        },
        "id": "UXaYivIDYdmz",
        "outputId": "e13a4709-93d6-45b6-e17d-af3470005262"
      },
      "execution_count": 16,
      "outputs": [
        {
          "output_type": "stream",
          "name": "stdout",
          "text": [
            "           Date      Open    High     Low   Close      Volume  Year\n",
            "0      1/3/2012 -1.372855  332.83  324.97  663.59   7,380,500  2012\n",
            "1      1/4/2012 -1.333209  333.87  329.08  666.45   5,749,400  2012\n",
            "2      1/5/2012 -1.342692  330.75  326.89  657.21   6,590,300  2012\n",
            "3      1/6/2012 -1.352505  328.77  323.68  648.24   5,405,900  2012\n",
            "4      1/9/2012 -1.393995  322.29  309.46  620.76  11,688,800  2012\n",
            "..          ...       ...     ...     ...     ...         ...   ...\n",
            "245  12/24/2012 -1.170871  356.25  352.41  707.56   1,688,000  2012\n",
            "246  12/26/2012 -1.192011  355.11  349.89  706.93   2,373,500  2012\n",
            "247  12/27/2012 -1.195041  353.10  348.00  704.36   3,307,000  2012\n",
            "248  12/28/2012 -1.212954  352.14  348.70  698.09   2,814,500  2012\n",
            "249  12/31/2012 -1.218486  353.96  346.70  705.44   4,009,600  2012\n",
            "\n",
            "[250 rows x 7 columns]\n",
            "           Date      Open    High     Low     Close     Volume  Year\n",
            "250    1/2/2013 -1.154736  362.14  356.94    721.27  5,101,500  2013\n",
            "251    1/3/2013 -1.136691  364.60  359.01    721.69  4,653,700  2013\n",
            "252    1/4/2013 -1.122203  369.35  362.48    735.95  5,547,600  2013\n",
            "253    1/7/2013 -1.102182  368.31  363.93    732.74  3,323,800  2013\n",
            "254    1/8/2013 -1.101853  366.78  360.86    731.29  3,364,700  2013\n",
            "..          ...       ...     ...     ...       ...        ...   ...\n",
            "497  12/24/2013  0.142845  555.54  551.98  1,108.80  1,473,800  2013\n",
            "498  12/26/2013  0.139684  557.41  552.27  1,114.40  2,685,500  2013\n",
            "499  12/27/2013  0.159375  558.05  554.39  1,115.34  3,151,100  2013\n",
            "500  12/30/2013  0.160495  558.16  552.44  1,106.42  2,481,300  2013\n",
            "501  12/31/2013  0.133888  558.41  551.06  1,117.64  2,725,900  2013\n",
            "\n",
            "[252 rows x 7 columns]\n",
            "           Date      Open    High     Low     Close     Volume  Year\n",
            "502    1/2/2014  0.144491  556.79  552.06  1,110.07  3,656,400  2014\n",
            "503    1/3/2014  0.142977  556.38  550.40  1,101.97  3,345,800  2014\n",
            "504    1/6/2014  0.136457  557.34  551.15  1,114.26  3,551,800  2014\n",
            "505    1/7/2014  0.175774  567.72  558.49  1,135.74  5,124,300  2014\n",
            "506    1/8/2014  0.244660  571.52  564.53  1,138.11  4,501,700  2014\n",
            "..          ...       ...     ...     ...       ...        ...   ...\n",
            "749  12/24/2014 -0.030622  530.30  525.58    527.32    705,900  2014\n",
            "750  12/26/2014 -0.042082  532.79  525.87    532.57  1,040,500  2014\n",
            "751  12/29/2014 -0.019624  534.01  528.56    528.88  2,278,500  2014\n",
            "752  12/30/2014 -0.046560  529.70  525.69    528.97    876,200  2014\n",
            "753  12/31/2014 -0.025749  531.14  524.36    524.96  1,368,200  2014\n",
            "\n",
            "[252 rows x 7 columns]\n",
            "            Date      Open    High     Low   Close     Volume  Year\n",
            "754     1/2/2015 -0.040501  529.82  522.67  523.37  1,447,500  2015\n",
            "755     1/5/2015 -0.078237  522.89  511.66  512.46  2,059,800  2015\n",
            "756     1/6/2015 -0.132503  514.76  499.68  500.59  2,899,900  2015\n",
            "757     1/7/2015 -0.185057  505.86  498.28  499.73  2,065,000  2015\n",
            "758     1/8/2015 -0.244197  502.10  489.66   501.3  3,353,500  2015\n",
            "...          ...       ...     ...     ...     ...        ...   ...\n",
            "1001  12/24/2015  1.421459  751.35  746.62   748.4    527,200  2015\n",
            "1002  12/28/2015  1.443653  762.99  749.52  762.51  1,515,300  2015\n",
            "1003  12/29/2015  1.534338  779.98  766.43   776.6  1,765,000  2015\n",
            "1004  12/30/2015  1.599603  777.60  766.90     771  1,293,300  2015\n",
            "1005  12/31/2015  1.552844  769.50  758.34  758.88  1,489,600  2015\n",
            "\n",
            "[252 rows x 7 columns]\n"
          ]
        }
      ]
    },
    {
      "cell_type": "code",
      "source": [
        "print(values_30_days.shape)\n",
        "print(value_next_day.shape)"
      ],
      "metadata": {
        "colab": {
          "base_uri": "https://localhost:8080/"
        },
        "id": "YPUw0x8XZZct",
        "outputId": "635cb2df-e649-4c02-f3aa-ad7251223733"
      },
      "execution_count": 17,
      "outputs": [
        {
          "output_type": "stream",
          "name": "stdout",
          "text": [
            "(882, 30)\n",
            "(882,)\n"
          ]
        }
      ]
    },
    {
      "cell_type": "code",
      "source": [
        "X_train, X_test, Y_train, Y_test = train_test_split(values_30_days, value_next_day, test_size=0.33, random_state=42)"
      ],
      "metadata": {
        "id": "SR548Oi9i81X"
      },
      "execution_count": 18,
      "outputs": []
    },
    {
      "cell_type": "code",
      "source": [
        "X_train.shape"
      ],
      "metadata": {
        "colab": {
          "base_uri": "https://localhost:8080/"
        },
        "id": "Qmbpb0Kojdpf",
        "outputId": "fb7a7459-7e0e-4aa1-bb4f-175c6feb9bd8"
      },
      "execution_count": 19,
      "outputs": [
        {
          "output_type": "execute_result",
          "data": {
            "text/plain": [
              "(590, 30)"
            ]
          },
          "metadata": {},
          "execution_count": 19
        }
      ]
    },
    {
      "cell_type": "code",
      "source": [
        "from tensorflow.keras.layers import Dense, LSTM\n",
        "from tensorflow.keras.models import Sequential\n",
        "from tensorflow.keras.initializers import HeNormal"
      ],
      "metadata": {
        "id": "_B6fSWTSeEIf"
      },
      "execution_count": 20,
      "outputs": []
    },
    {
      "cell_type": "code",
      "source": [
        "initializer = HeNormal()\n",
        "\n",
        "model = Sequential()\n",
        "model.add(LSTM(30, input_shape = (X_train.shape[1], 1), return_sequences = True, kernel_initializer=initializer, activation = 'relu'))\n",
        "model.add(LSTM(20, activation = 'relu', return_sequences = True))\n",
        "model.add(LSTM(10, activation = 'relu', return_sequences = True))\n",
        "model.add(LSTM(5, activation = 'relu'))\n",
        "model.add(Dense(1))\n"
      ],
      "metadata": {
        "id": "SGHnhQrgiOIi"
      },
      "execution_count": 21,
      "outputs": []
    },
    {
      "cell_type": "code",
      "source": [
        "model.compile(optimizer = 'adam', loss = 'mean_squared_error')\n",
        "history = model.fit(X_train, Y_train, epochs = 200, validation_data=(X_test, Y_test))"
      ],
      "metadata": {
        "colab": {
          "base_uri": "https://localhost:8080/"
        },
        "id": "eRJiIaY6jaK5",
        "outputId": "5e2b03a9-4e9b-42fc-f924-76e860027da3"
      },
      "execution_count": 22,
      "outputs": [
        {
          "output_type": "stream",
          "name": "stdout",
          "text": [
            "Epoch 1/200\n",
            "19/19 [==============================] - 7s 92ms/step - loss: 0.4630 - val_loss: 0.2764\n",
            "Epoch 2/200\n",
            "19/19 [==============================] - 1s 56ms/step - loss: 0.2013 - val_loss: 0.2175\n",
            "Epoch 3/200\n",
            "19/19 [==============================] - 1s 53ms/step - loss: 0.1524 - val_loss: 0.1627\n",
            "Epoch 4/200\n",
            "19/19 [==============================] - 1s 51ms/step - loss: 0.0784 - val_loss: 0.0367\n",
            "Epoch 5/200\n",
            "19/19 [==============================] - 1s 50ms/step - loss: 0.0311 - val_loss: 0.0393\n",
            "Epoch 6/200\n",
            "19/19 [==============================] - 1s 50ms/step - loss: 0.0275 - val_loss: 0.0217\n",
            "Epoch 7/200\n",
            "19/19 [==============================] - 1s 51ms/step - loss: 0.0211 - val_loss: 0.0188\n",
            "Epoch 8/200\n",
            "19/19 [==============================] - 1s 50ms/step - loss: 0.0190 - val_loss: 0.0179\n",
            "Epoch 9/200\n",
            "19/19 [==============================] - 1s 50ms/step - loss: 0.0187 - val_loss: 0.0196\n",
            "Epoch 10/200\n",
            "19/19 [==============================] - 1s 52ms/step - loss: 0.0182 - val_loss: 0.0165\n",
            "Epoch 11/200\n",
            "19/19 [==============================] - 1s 54ms/step - loss: 0.0168 - val_loss: 0.0169\n",
            "Epoch 12/200\n",
            "19/19 [==============================] - 1s 53ms/step - loss: 0.0162 - val_loss: 0.0142\n",
            "Epoch 13/200\n",
            "19/19 [==============================] - 1s 53ms/step - loss: 0.0151 - val_loss: 0.0136\n",
            "Epoch 14/200\n",
            "19/19 [==============================] - 1s 56ms/step - loss: 0.0137 - val_loss: 0.0134\n",
            "Epoch 15/200\n",
            "19/19 [==============================] - 1s 56ms/step - loss: 0.0131 - val_loss: 0.0140\n",
            "Epoch 16/200\n",
            "19/19 [==============================] - 1s 52ms/step - loss: 0.0127 - val_loss: 0.0117\n",
            "Epoch 17/200\n",
            "19/19 [==============================] - 1s 55ms/step - loss: 0.0133 - val_loss: 0.0129\n",
            "Epoch 18/200\n",
            "19/19 [==============================] - 1s 53ms/step - loss: 0.0130 - val_loss: 0.0118\n",
            "Epoch 19/200\n",
            "19/19 [==============================] - 1s 52ms/step - loss: 0.0122 - val_loss: 0.0111\n",
            "Epoch 20/200\n",
            "19/19 [==============================] - 1s 50ms/step - loss: 0.0111 - val_loss: 0.0113\n",
            "Epoch 21/200\n",
            "19/19 [==============================] - 1s 50ms/step - loss: 0.0108 - val_loss: 0.0098\n",
            "Epoch 22/200\n",
            "19/19 [==============================] - 1s 50ms/step - loss: 0.0102 - val_loss: 0.0104\n",
            "Epoch 23/200\n",
            "19/19 [==============================] - 1s 52ms/step - loss: 0.0102 - val_loss: 0.0096\n",
            "Epoch 24/200\n",
            "19/19 [==============================] - 1s 52ms/step - loss: 0.0096 - val_loss: 0.0092\n",
            "Epoch 25/200\n",
            "19/19 [==============================] - 1s 51ms/step - loss: 0.0096 - val_loss: 0.0099\n",
            "Epoch 26/200\n",
            "19/19 [==============================] - 1s 52ms/step - loss: 0.0097 - val_loss: 0.0111\n",
            "Epoch 27/200\n",
            "19/19 [==============================] - 1s 52ms/step - loss: 0.0096 - val_loss: 0.0088\n",
            "Epoch 28/200\n",
            "19/19 [==============================] - 1s 54ms/step - loss: 0.0092 - val_loss: 0.0092\n",
            "Epoch 29/200\n",
            "19/19 [==============================] - 1s 54ms/step - loss: 0.0095 - val_loss: 0.0097\n",
            "Epoch 30/200\n",
            "19/19 [==============================] - 1s 52ms/step - loss: 0.0094 - val_loss: 0.0097\n",
            "Epoch 31/200\n",
            "19/19 [==============================] - 1s 53ms/step - loss: 0.0092 - val_loss: 0.0106\n",
            "Epoch 32/200\n",
            "19/19 [==============================] - 1s 53ms/step - loss: 0.0091 - val_loss: 0.0097\n",
            "Epoch 33/200\n",
            "19/19 [==============================] - 1s 52ms/step - loss: 0.0081 - val_loss: 0.0081\n",
            "Epoch 34/200\n",
            "19/19 [==============================] - 1s 54ms/step - loss: 0.0078 - val_loss: 0.0090\n",
            "Epoch 35/200\n",
            "19/19 [==============================] - 1s 53ms/step - loss: 0.0097 - val_loss: 0.0080\n",
            "Epoch 36/200\n",
            "19/19 [==============================] - 1s 52ms/step - loss: 0.0082 - val_loss: 0.0078\n",
            "Epoch 37/200\n",
            "19/19 [==============================] - 1s 51ms/step - loss: 0.0080 - val_loss: 0.0097\n",
            "Epoch 38/200\n",
            "19/19 [==============================] - 1s 52ms/step - loss: 0.0076 - val_loss: 0.0077\n",
            "Epoch 39/200\n",
            "19/19 [==============================] - 1s 51ms/step - loss: 0.0071 - val_loss: 0.0081\n",
            "Epoch 40/200\n",
            "19/19 [==============================] - 1s 52ms/step - loss: 0.0069 - val_loss: 0.0102\n",
            "Epoch 41/200\n",
            "19/19 [==============================] - 1s 52ms/step - loss: 0.0083 - val_loss: 0.0096\n",
            "Epoch 42/200\n",
            "19/19 [==============================] - 1s 52ms/step - loss: 0.0086 - val_loss: 0.0087\n",
            "Epoch 43/200\n",
            "19/19 [==============================] - 1s 51ms/step - loss: 0.0076 - val_loss: 0.0118\n",
            "Epoch 44/200\n",
            "19/19 [==============================] - 1s 51ms/step - loss: 0.0081 - val_loss: 0.0079\n",
            "Epoch 45/200\n",
            "19/19 [==============================] - 1s 51ms/step - loss: 0.0070 - val_loss: 0.0082\n",
            "Epoch 46/200\n",
            "19/19 [==============================] - 1s 51ms/step - loss: 0.0066 - val_loss: 0.0070\n",
            "Epoch 47/200\n",
            "19/19 [==============================] - 1s 51ms/step - loss: 0.0064 - val_loss: 0.0086\n",
            "Epoch 48/200\n",
            "19/19 [==============================] - 1s 50ms/step - loss: 0.0071 - val_loss: 0.0080\n",
            "Epoch 49/200\n",
            "19/19 [==============================] - 1s 52ms/step - loss: 0.0063 - val_loss: 0.0065\n",
            "Epoch 50/200\n",
            "19/19 [==============================] - 1s 52ms/step - loss: 0.0066 - val_loss: 0.0068\n",
            "Epoch 51/200\n",
            "19/19 [==============================] - 2s 81ms/step - loss: 0.0063 - val_loss: 0.0108\n",
            "Epoch 52/200\n",
            "19/19 [==============================] - 2s 83ms/step - loss: 0.0075 - val_loss: 0.0071\n",
            "Epoch 53/200\n",
            "19/19 [==============================] - 1s 77ms/step - loss: 0.0058 - val_loss: 0.0074\n",
            "Epoch 54/200\n",
            "19/19 [==============================] - 1s 53ms/step - loss: 0.0068 - val_loss: 0.0067\n",
            "Epoch 55/200\n",
            "19/19 [==============================] - 1s 52ms/step - loss: 0.0062 - val_loss: 0.0073\n",
            "Epoch 56/200\n",
            "19/19 [==============================] - 1s 53ms/step - loss: 0.0061 - val_loss: 0.0067\n",
            "Epoch 57/200\n",
            "19/19 [==============================] - 1s 52ms/step - loss: 0.0064 - val_loss: 0.0073\n",
            "Epoch 58/200\n",
            "19/19 [==============================] - 1s 54ms/step - loss: 0.0070 - val_loss: 0.0062\n",
            "Epoch 59/200\n",
            "19/19 [==============================] - 1s 52ms/step - loss: 0.0058 - val_loss: 0.0079\n",
            "Epoch 60/200\n",
            "19/19 [==============================] - 1s 51ms/step - loss: 0.0066 - val_loss: 0.0063\n",
            "Epoch 61/200\n",
            "19/19 [==============================] - 1s 51ms/step - loss: 0.0057 - val_loss: 0.0069\n",
            "Epoch 62/200\n",
            "19/19 [==============================] - 1s 52ms/step - loss: 0.0059 - val_loss: 0.0063\n",
            "Epoch 63/200\n",
            "19/19 [==============================] - 1s 52ms/step - loss: 0.0064 - val_loss: 0.0068\n",
            "Epoch 64/200\n",
            "19/19 [==============================] - 1s 52ms/step - loss: 0.0068 - val_loss: 0.0076\n",
            "Epoch 65/200\n",
            "19/19 [==============================] - 1s 52ms/step - loss: 0.0064 - val_loss: 0.0061\n",
            "Epoch 66/200\n",
            "19/19 [==============================] - 1s 57ms/step - loss: 0.0053 - val_loss: 0.0065\n",
            "Epoch 67/200\n",
            "19/19 [==============================] - 1s 51ms/step - loss: 0.0053 - val_loss: 0.0061\n",
            "Epoch 68/200\n",
            "19/19 [==============================] - 1s 57ms/step - loss: 0.0053 - val_loss: 0.0074\n",
            "Epoch 69/200\n",
            "19/19 [==============================] - 1s 53ms/step - loss: 0.0056 - val_loss: 0.0074\n",
            "Epoch 70/200\n",
            "19/19 [==============================] - 1s 52ms/step - loss: 0.0084 - val_loss: 0.0083\n",
            "Epoch 71/200\n",
            "19/19 [==============================] - 1s 51ms/step - loss: 0.0061 - val_loss: 0.0063\n",
            "Epoch 72/200\n",
            "19/19 [==============================] - 1s 53ms/step - loss: 0.0053 - val_loss: 0.0075\n",
            "Epoch 73/200\n",
            "19/19 [==============================] - 1s 52ms/step - loss: 0.0053 - val_loss: 0.0060\n",
            "Epoch 74/200\n",
            "19/19 [==============================] - 1s 54ms/step - loss: 0.0056 - val_loss: 0.0084\n",
            "Epoch 75/200\n",
            "19/19 [==============================] - 1s 52ms/step - loss: 0.0067 - val_loss: 0.0074\n",
            "Epoch 76/200\n",
            "19/19 [==============================] - 1s 52ms/step - loss: 0.0072 - val_loss: 0.0069\n",
            "Epoch 77/200\n",
            "19/19 [==============================] - 1s 52ms/step - loss: 0.0059 - val_loss: 0.0072\n",
            "Epoch 78/200\n",
            "19/19 [==============================] - 1s 52ms/step - loss: 0.0056 - val_loss: 0.0067\n",
            "Epoch 79/200\n",
            "19/19 [==============================] - 1s 52ms/step - loss: 0.0055 - val_loss: 0.0062\n",
            "Epoch 80/200\n",
            "19/19 [==============================] - 1s 51ms/step - loss: 0.0049 - val_loss: 0.0067\n",
            "Epoch 81/200\n",
            "19/19 [==============================] - 1s 53ms/step - loss: 0.0054 - val_loss: 0.0071\n",
            "Epoch 82/200\n",
            "19/19 [==============================] - 1s 52ms/step - loss: 0.0054 - val_loss: 0.0064\n",
            "Epoch 83/200\n",
            "19/19 [==============================] - 1s 52ms/step - loss: 0.0048 - val_loss: 0.0053\n",
            "Epoch 84/200\n",
            "19/19 [==============================] - 1s 53ms/step - loss: 0.0053 - val_loss: 0.0061\n",
            "Epoch 85/200\n",
            "19/19 [==============================] - 1s 52ms/step - loss: 0.0056 - val_loss: 0.0081\n",
            "Epoch 86/200\n",
            "19/19 [==============================] - 1s 50ms/step - loss: 0.0062 - val_loss: 0.0080\n",
            "Epoch 87/200\n",
            "19/19 [==============================] - 1s 51ms/step - loss: 0.0064 - val_loss: 0.0074\n",
            "Epoch 88/200\n",
            "19/19 [==============================] - 1s 53ms/step - loss: 0.0055 - val_loss: 0.0061\n",
            "Epoch 89/200\n",
            "19/19 [==============================] - 1s 51ms/step - loss: 0.0051 - val_loss: 0.0061\n",
            "Epoch 90/200\n",
            "19/19 [==============================] - 1s 52ms/step - loss: 0.0057 - val_loss: 0.0067\n",
            "Epoch 91/200\n",
            "19/19 [==============================] - 1s 51ms/step - loss: 0.0054 - val_loss: 0.0060\n",
            "Epoch 92/200\n",
            "19/19 [==============================] - 1s 51ms/step - loss: 0.0051 - val_loss: 0.0069\n",
            "Epoch 93/200\n",
            "19/19 [==============================] - 1s 51ms/step - loss: 0.0050 - val_loss: 0.0059\n",
            "Epoch 94/200\n",
            "19/19 [==============================] - 1s 51ms/step - loss: 0.0056 - val_loss: 0.0081\n",
            "Epoch 95/200\n",
            "19/19 [==============================] - 1s 51ms/step - loss: 0.0049 - val_loss: 0.0069\n",
            "Epoch 96/200\n",
            "19/19 [==============================] - 1s 52ms/step - loss: 0.0058 - val_loss: 0.0083\n",
            "Epoch 97/200\n",
            "19/19 [==============================] - 1s 52ms/step - loss: 0.0053 - val_loss: 0.0076\n",
            "Epoch 98/200\n",
            "19/19 [==============================] - 1s 53ms/step - loss: 0.0060 - val_loss: 0.0056\n",
            "Epoch 99/200\n",
            "19/19 [==============================] - 1s 53ms/step - loss: 0.0044 - val_loss: 0.0063\n",
            "Epoch 100/200\n",
            "19/19 [==============================] - 1s 51ms/step - loss: 0.0045 - val_loss: 0.0054\n",
            "Epoch 101/200\n",
            "19/19 [==============================] - 1s 51ms/step - loss: 0.0047 - val_loss: 0.0056\n",
            "Epoch 102/200\n",
            "19/19 [==============================] - 1s 50ms/step - loss: 0.0050 - val_loss: 0.0058\n",
            "Epoch 103/200\n",
            "19/19 [==============================] - 1s 51ms/step - loss: 0.0053 - val_loss: 0.0054\n",
            "Epoch 104/200\n",
            "19/19 [==============================] - 1s 52ms/step - loss: 0.0047 - val_loss: 0.0076\n",
            "Epoch 105/200\n",
            "19/19 [==============================] - 1s 52ms/step - loss: 0.0065 - val_loss: 0.0068\n",
            "Epoch 106/200\n",
            "19/19 [==============================] - 1s 51ms/step - loss: 0.0058 - val_loss: 0.0064\n",
            "Epoch 107/200\n",
            "19/19 [==============================] - 1s 50ms/step - loss: 0.0047 - val_loss: 0.0049\n",
            "Epoch 108/200\n",
            "19/19 [==============================] - 1s 51ms/step - loss: 0.0044 - val_loss: 0.0059\n",
            "Epoch 109/200\n",
            "19/19 [==============================] - 1s 52ms/step - loss: 0.0050 - val_loss: 0.0089\n",
            "Epoch 110/200\n",
            "19/19 [==============================] - 1s 52ms/step - loss: 0.0054 - val_loss: 0.0066\n",
            "Epoch 111/200\n",
            "19/19 [==============================] - 1s 53ms/step - loss: 0.0055 - val_loss: 0.0059\n",
            "Epoch 112/200\n",
            "19/19 [==============================] - 1s 52ms/step - loss: 0.0062 - val_loss: 0.0089\n",
            "Epoch 113/200\n",
            "19/19 [==============================] - 1s 52ms/step - loss: 0.0060 - val_loss: 0.0055\n",
            "Epoch 114/200\n",
            "19/19 [==============================] - 1s 52ms/step - loss: 0.0048 - val_loss: 0.0053\n",
            "Epoch 115/200\n",
            "19/19 [==============================] - 1s 52ms/step - loss: 0.0059 - val_loss: 0.0082\n",
            "Epoch 116/200\n",
            "19/19 [==============================] - 1s 51ms/step - loss: 0.0055 - val_loss: 0.0055\n",
            "Epoch 117/200\n",
            "19/19 [==============================] - 1s 54ms/step - loss: 0.0053 - val_loss: 0.0086\n",
            "Epoch 118/200\n",
            "19/19 [==============================] - 1s 55ms/step - loss: 0.0048 - val_loss: 0.0071\n",
            "Epoch 119/200\n",
            "19/19 [==============================] - 1s 53ms/step - loss: 0.0053 - val_loss: 0.0070\n",
            "Epoch 120/200\n",
            "19/19 [==============================] - 1s 52ms/step - loss: 0.0051 - val_loss: 0.0072\n",
            "Epoch 121/200\n",
            "19/19 [==============================] - 1s 52ms/step - loss: 0.0046 - val_loss: 0.0059\n",
            "Epoch 122/200\n",
            "19/19 [==============================] - 1s 54ms/step - loss: 0.0048 - val_loss: 0.0071\n",
            "Epoch 123/200\n",
            "19/19 [==============================] - 1s 52ms/step - loss: 0.0052 - val_loss: 0.0059\n",
            "Epoch 124/200\n",
            "19/19 [==============================] - 1s 50ms/step - loss: 0.0045 - val_loss: 0.0078\n",
            "Epoch 125/200\n",
            "19/19 [==============================] - 1s 51ms/step - loss: 0.0056 - val_loss: 0.0060\n",
            "Epoch 126/200\n",
            "19/19 [==============================] - 1s 53ms/step - loss: 0.0044 - val_loss: 0.0058\n",
            "Epoch 127/200\n",
            "19/19 [==============================] - 1s 52ms/step - loss: 0.0046 - val_loss: 0.0069\n",
            "Epoch 128/200\n",
            "19/19 [==============================] - 1s 51ms/step - loss: 0.0049 - val_loss: 0.0062\n",
            "Epoch 129/200\n",
            "19/19 [==============================] - 1s 53ms/step - loss: 0.0046 - val_loss: 0.0060\n",
            "Epoch 130/200\n",
            "19/19 [==============================] - 1s 53ms/step - loss: 0.0043 - val_loss: 0.0072\n",
            "Epoch 131/200\n",
            "19/19 [==============================] - 1s 56ms/step - loss: 0.0048 - val_loss: 0.0070\n",
            "Epoch 132/200\n",
            "19/19 [==============================] - 1s 55ms/step - loss: 0.0048 - val_loss: 0.0052\n",
            "Epoch 133/200\n",
            "19/19 [==============================] - 1s 57ms/step - loss: 0.0048 - val_loss: 0.0065\n",
            "Epoch 134/200\n",
            "19/19 [==============================] - 1s 54ms/step - loss: 0.0045 - val_loss: 0.0062\n",
            "Epoch 135/200\n",
            "19/19 [==============================] - 1s 52ms/step - loss: 0.0045 - val_loss: 0.0070\n",
            "Epoch 136/200\n",
            "19/19 [==============================] - 1s 53ms/step - loss: 0.0042 - val_loss: 0.0067\n",
            "Epoch 137/200\n",
            "19/19 [==============================] - 1s 52ms/step - loss: 0.0043 - val_loss: 0.0061\n",
            "Epoch 138/200\n",
            "19/19 [==============================] - 1s 51ms/step - loss: 0.0046 - val_loss: 0.0057\n",
            "Epoch 139/200\n",
            "19/19 [==============================] - 1s 52ms/step - loss: 0.0042 - val_loss: 0.0069\n",
            "Epoch 140/200\n",
            "19/19 [==============================] - 1s 52ms/step - loss: 0.0043 - val_loss: 0.0056\n",
            "Epoch 141/200\n",
            "19/19 [==============================] - 1s 54ms/step - loss: 0.0052 - val_loss: 0.0078\n",
            "Epoch 142/200\n",
            "19/19 [==============================] - 1s 53ms/step - loss: 0.0047 - val_loss: 0.0054\n",
            "Epoch 143/200\n",
            "19/19 [==============================] - 1s 56ms/step - loss: 0.0041 - val_loss: 0.0062\n",
            "Epoch 144/200\n",
            "19/19 [==============================] - 1s 55ms/step - loss: 0.0039 - val_loss: 0.0064\n",
            "Epoch 145/200\n",
            "19/19 [==============================] - 1s 57ms/step - loss: 0.0043 - val_loss: 0.0064\n",
            "Epoch 146/200\n",
            "19/19 [==============================] - 1s 53ms/step - loss: 0.0040 - val_loss: 0.0075\n",
            "Epoch 147/200\n",
            "19/19 [==============================] - 1s 52ms/step - loss: 0.0040 - val_loss: 0.0065\n",
            "Epoch 148/200\n",
            "19/19 [==============================] - 1s 54ms/step - loss: 0.0037 - val_loss: 0.0053\n",
            "Epoch 149/200\n",
            "19/19 [==============================] - 1s 52ms/step - loss: 0.0040 - val_loss: 0.0058\n",
            "Epoch 150/200\n",
            "19/19 [==============================] - 1s 52ms/step - loss: 0.0036 - val_loss: 0.0057\n",
            "Epoch 151/200\n",
            "19/19 [==============================] - 1s 52ms/step - loss: 0.0035 - val_loss: 0.0060\n",
            "Epoch 152/200\n",
            "19/19 [==============================] - 1s 51ms/step - loss: 0.0036 - val_loss: 0.0059\n",
            "Epoch 153/200\n",
            "19/19 [==============================] - 1s 53ms/step - loss: 0.0035 - val_loss: 0.0063\n",
            "Epoch 154/200\n",
            "19/19 [==============================] - 1s 52ms/step - loss: 0.0041 - val_loss: 0.0062\n",
            "Epoch 155/200\n",
            "19/19 [==============================] - 1s 53ms/step - loss: 0.0035 - val_loss: 0.0056\n",
            "Epoch 156/200\n",
            "19/19 [==============================] - 1s 53ms/step - loss: 0.0037 - val_loss: 0.0049\n",
            "Epoch 157/200\n",
            "19/19 [==============================] - 1s 53ms/step - loss: 0.0035 - val_loss: 0.0063\n",
            "Epoch 158/200\n",
            "19/19 [==============================] - 1s 53ms/step - loss: 0.0040 - val_loss: 0.0058\n",
            "Epoch 159/200\n",
            "19/19 [==============================] - 1s 52ms/step - loss: 0.0036 - val_loss: 0.0063\n",
            "Epoch 160/200\n",
            "19/19 [==============================] - 1s 51ms/step - loss: 0.0033 - val_loss: 0.0053\n",
            "Epoch 161/200\n",
            "19/19 [==============================] - 1s 51ms/step - loss: 0.0039 - val_loss: 0.0057\n",
            "Epoch 162/200\n",
            "19/19 [==============================] - 1s 51ms/step - loss: 0.0034 - val_loss: 0.0070\n",
            "Epoch 163/200\n",
            "19/19 [==============================] - 1s 51ms/step - loss: 0.0036 - val_loss: 0.0058\n",
            "Epoch 164/200\n",
            "19/19 [==============================] - 1s 53ms/step - loss: 0.0034 - val_loss: 0.0063\n",
            "Epoch 165/200\n",
            "19/19 [==============================] - 1s 52ms/step - loss: 0.0043 - val_loss: 0.0062\n",
            "Epoch 166/200\n",
            "19/19 [==============================] - 1s 51ms/step - loss: 0.0040 - val_loss: 0.0059\n",
            "Epoch 167/200\n",
            "19/19 [==============================] - 1s 52ms/step - loss: 0.0042 - val_loss: 0.0081\n",
            "Epoch 168/200\n",
            "19/19 [==============================] - 1s 52ms/step - loss: 0.0043 - val_loss: 0.0056\n",
            "Epoch 169/200\n",
            "19/19 [==============================] - 1s 52ms/step - loss: 0.0039 - val_loss: 0.0068\n",
            "Epoch 170/200\n",
            "19/19 [==============================] - 1s 50ms/step - loss: 0.0043 - val_loss: 0.0082\n",
            "Epoch 171/200\n",
            "19/19 [==============================] - 1s 54ms/step - loss: 0.0041 - val_loss: 0.0058\n",
            "Epoch 172/200\n",
            "19/19 [==============================] - 1s 53ms/step - loss: 0.0041 - val_loss: 0.0058\n",
            "Epoch 173/200\n",
            "19/19 [==============================] - 1s 53ms/step - loss: 0.0033 - val_loss: 0.0066\n",
            "Epoch 174/200\n",
            "19/19 [==============================] - 1s 53ms/step - loss: 0.0036 - val_loss: 0.0066\n",
            "Epoch 175/200\n",
            "19/19 [==============================] - 1s 56ms/step - loss: 0.0037 - val_loss: 0.0066\n",
            "Epoch 176/200\n",
            "19/19 [==============================] - 1s 56ms/step - loss: 0.0034 - val_loss: 0.0066\n",
            "Epoch 177/200\n",
            "19/19 [==============================] - 1s 54ms/step - loss: 0.0032 - val_loss: 0.0059\n",
            "Epoch 178/200\n",
            "19/19 [==============================] - 1s 56ms/step - loss: 0.0033 - val_loss: 0.0061\n",
            "Epoch 179/200\n",
            "19/19 [==============================] - 1s 57ms/step - loss: 0.0031 - val_loss: 0.0064\n",
            "Epoch 180/200\n",
            "19/19 [==============================] - 1s 54ms/step - loss: 0.0033 - val_loss: 0.0052\n",
            "Epoch 181/200\n",
            "19/19 [==============================] - 1s 54ms/step - loss: 0.0031 - val_loss: 0.0062\n",
            "Epoch 182/200\n",
            "19/19 [==============================] - 1s 53ms/step - loss: 0.0031 - val_loss: 0.0068\n",
            "Epoch 183/200\n",
            "19/19 [==============================] - 1s 55ms/step - loss: 0.0039 - val_loss: 0.0066\n",
            "Epoch 184/200\n",
            "19/19 [==============================] - 1s 50ms/step - loss: 0.0038 - val_loss: 0.0062\n",
            "Epoch 185/200\n",
            "19/19 [==============================] - 1s 52ms/step - loss: 0.0035 - val_loss: 0.0066\n",
            "Epoch 186/200\n",
            "19/19 [==============================] - 1s 52ms/step - loss: 0.0035 - val_loss: 0.0058\n",
            "Epoch 187/200\n",
            "19/19 [==============================] - 1s 51ms/step - loss: 0.0032 - val_loss: 0.0058\n",
            "Epoch 188/200\n",
            "19/19 [==============================] - 1s 53ms/step - loss: 0.0032 - val_loss: 0.0070\n",
            "Epoch 189/200\n",
            "19/19 [==============================] - 1s 54ms/step - loss: 0.0038 - val_loss: 0.0051\n",
            "Epoch 190/200\n",
            "19/19 [==============================] - 1s 53ms/step - loss: 0.0032 - val_loss: 0.0071\n",
            "Epoch 191/200\n",
            "19/19 [==============================] - 1s 53ms/step - loss: 0.0032 - val_loss: 0.0070\n",
            "Epoch 192/200\n",
            "19/19 [==============================] - 1s 53ms/step - loss: 0.0031 - val_loss: 0.0062\n",
            "Epoch 193/200\n",
            "19/19 [==============================] - 1s 54ms/step - loss: 0.0040 - val_loss: 0.0060\n",
            "Epoch 194/200\n",
            "19/19 [==============================] - 1s 57ms/step - loss: 0.0032 - val_loss: 0.0062\n",
            "Epoch 195/200\n",
            "19/19 [==============================] - 1s 51ms/step - loss: 0.0034 - val_loss: 0.0058\n",
            "Epoch 196/200\n",
            "19/19 [==============================] - 1s 54ms/step - loss: 0.0034 - val_loss: 0.0065\n",
            "Epoch 197/200\n",
            "19/19 [==============================] - 1s 52ms/step - loss: 0.0035 - val_loss: 0.0055\n",
            "Epoch 198/200\n",
            "19/19 [==============================] - 1s 51ms/step - loss: 0.0039 - val_loss: 0.0065\n",
            "Epoch 199/200\n",
            "19/19 [==============================] - 1s 54ms/step - loss: 0.0037 - val_loss: 0.0059\n",
            "Epoch 200/200\n",
            "19/19 [==============================] - 1s 52ms/step - loss: 0.0043 - val_loss: 0.0070\n"
          ]
        }
      ]
    },
    {
      "cell_type": "code",
      "source": [
        "fig = plt.figure(figsize = [12,8])\n",
        "\n",
        "plt.plot(history.history['loss'])\n",
        "plt.plot(history.history['val_loss'])\n",
        "plt.title('model loss')\n",
        "plt.ylabel('loss')\n",
        "plt.xlabel('epoch')\n",
        "plt.legend(['train', 'test'], loc='upper left')\n",
        "plt.show()"
      ],
      "metadata": {
        "colab": {
          "base_uri": "https://localhost:8080/",
          "height": 513
        },
        "id": "8w1v76EgqX_p",
        "outputId": "14513a60-e7c2-4356-f1b6-dec0a9f85391"
      },
      "execution_count": 28,
      "outputs": [
        {
          "output_type": "display_data",
          "data": {
            "text/plain": [
              "<Figure size 864x576 with 1 Axes>"
            ],
            "image/png": "[encoded data removed]"
          },
          "metadata": {
            "needs_background": "light"
          }
        }
      ]
    },
    {
      "cell_type": "code",
      "source": [
        "values_30_days_for_prediction = []\n",
        "value_next_day_for_prediction = []\n",
        "data_open_for_prediction = list(data.loc[data['Year'] == '2016'].Open)\n",
        "for i in range(30, len(data_open_for_prediction)-1):\n",
        "    values_30_days_for_prediction.append(data_open_for_prediction[i-30:i])\n",
        "    value_next_day_for_prediction.append(data_open_for_prediction[i+1])\n",
        "values_30_days_for_prediction = np.array(values_30_days_for_prediction)\n",
        "value_next_day_for_prediction = np.array(value_next_day_for_prediction)"
      ],
      "metadata": {
        "id": "JPt8qxdJmeMb"
      },
      "execution_count": 29,
      "outputs": []
    },
    {
      "cell_type": "code",
      "source": [
        "fig = plt.figure(figsize = [12,8])\n",
        "plt.plot(np.arange(len(value_next_day_for_prediction)), value_next_day_for_prediction)\n",
        "plt.title(\"Open value in Stock Market standardized\")\n",
        "plt.show()"
      ],
      "metadata": {
        "colab": {
          "base_uri": "https://localhost:8080/",
          "height": 499
        },
        "id": "slehA_UYn6wH",
        "outputId": "66f593dc-61c1-47e8-9bf8-a4303cb3f5b3"
      },
      "execution_count": 30,
      "outputs": [
        {
          "output_type": "display_data",
          "data": {
            "text/plain": [
              "<Figure size 864x576 with 1 Axes>"
            ],
            "image/png": "[encoded data removed]"
          },
          "metadata": {
            "needs_background": "light"
          }
        }
      ]
    },
    {
      "cell_type": "code",
      "source": [
        "predictions = []\n",
        "for value_30_days in values_30_days_for_prediction:\n",
        "  pred = model.predict(np.array(value_30_days).reshape(1,30))\n",
        "  predictions.append(pred[0][0])"
      ],
      "metadata": {
        "id": "1pTRRwQWlUnT"
      },
      "execution_count": 31,
      "outputs": []
    },
    {
      "cell_type": "code",
      "source": [
        "fig = plt.figure(figsize = [12,8])\n",
        "plt.plot(np.arange(len(value_next_day_for_prediction)), value_next_day_for_prediction, label='Actual')\n",
        "plt.plot(np.arange(len(predictions)), predictions, label='Predicted')\n",
        "plt.title(\"Open value in Stock Market standardized\")\n",
        "plt.legend()\n",
        "plt.show()"
      ],
      "metadata": {
        "colab": {
          "base_uri": "https://localhost:8080/",
          "height": 499
        },
        "id": "oZGLWHW4mHkB",
        "outputId": "c136fc81-a750-403b-cccc-9f9ac5872598"
      },
      "execution_count": 32,
      "outputs": [
        {
          "output_type": "display_data",
          "data": {
            "text/plain": [
              "<Figure size 864x576 with 1 Axes>"
            ],
            "image/png": "[encoded data removed]"
          },
          "metadata": {
            "needs_background": "light"
          }
        }
      ]
    }
  ]
}